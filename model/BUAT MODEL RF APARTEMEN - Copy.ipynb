{
 "cells": [
  {
   "cell_type": "code",
   "execution_count": 1,
   "metadata": {},
   "outputs": [],
   "source": [
    "#IMPORT PACKAGE\n",
    "import pandas as pd\n",
    "import numpy as np\n",
    "from sklearn.preprocessing import LabelEncoder\n",
    "from sklearn.model_selection import train_test_split\n",
    "from sklearn.ensemble import RandomForestRegressor\n",
    "from sklearn.datasets import make_regression"
   ]
  },
  {
   "cell_type": "code",
   "execution_count": 2,
   "metadata": {},
   "outputs": [],
   "source": [
    "#INPUT DATA\n",
    "df = pd.read_excel(\"persatuan data berharga 2.xlsx\")\n",
    "predictors = ['Kecamatan','BR', 'Luas', 'Fasilitas','Lantai','Unit']\n",
    "label = 'Harga'"
   ]
  },
  {
   "cell_type": "code",
   "execution_count": 3,
   "metadata": {},
   "outputs": [
    {
     "name": "stdout",
     "output_type": "stream",
     "text": [
      "<class 'pandas.core.frame.DataFrame'>\n",
      "RangeIndex: 2875 entries, 0 to 2874\n",
      "Data columns (total 7 columns):\n",
      "Kecamatan    2875 non-null object\n",
      "BR           2875 non-null int64\n",
      "Luas         2875 non-null float64\n",
      "Fasilitas    2875 non-null object\n",
      "Lantai       2875 non-null object\n",
      "Unit         2875 non-null object\n",
      "Harga        2875 non-null int64\n",
      "dtypes: float64(1), int64(2), object(4)\n",
      "memory usage: 157.3+ KB\n"
     ]
    }
   ],
   "source": [
    "#MENAMPILKAN INFO DATAFRAME\n",
    "df.info()"
   ]
  },
  {
   "cell_type": "code",
   "execution_count": 4,
   "metadata": {},
   "outputs": [],
   "source": [
    "#LABEL ENCODER\n",
    "le = dict()\n",
    "for column in df.columns:\n",
    "    if df[column].dtype == np.object:\n",
    "        le[column] = LabelEncoder()\n",
    "        df[column] = le[column].fit_transform(df[column])"
   ]
  },
  {
   "cell_type": "code",
   "execution_count": 5,
   "metadata": {
    "scrolled": true
   },
   "outputs": [
    {
     "name": "stdout",
     "output_type": "stream",
     "text": [
      "<class 'pandas.core.frame.DataFrame'>\n",
      "RangeIndex: 2875 entries, 0 to 2874\n",
      "Data columns (total 7 columns):\n",
      "Kecamatan    2875 non-null int64\n",
      "BR           2875 non-null int64\n",
      "Luas         2875 non-null float64\n",
      "Fasilitas    2875 non-null int64\n",
      "Lantai       2875 non-null int64\n",
      "Unit         2875 non-null int64\n",
      "Harga        2875 non-null int64\n",
      "dtypes: float64(1), int64(6)\n",
      "memory usage: 157.3 KB\n"
     ]
    }
   ],
   "source": [
    "#INFO DATAFRAME\n",
    "df.info()"
   ]
  },
  {
   "cell_type": "code",
   "execution_count": 47,
   "metadata": {},
   "outputs": [
    {
     "name": "stdout",
     "output_type": "stream",
     "text": [
      "      Kecamatan  BR   Luas  Fasilitas  Lantai  Unit     Harga\n",
      "0             0   2   36.0          0       0     0   2700000\n",
      "1             0   2   36.0          0       1     0   3000000\n",
      "2             0   1   25.0          1       1     0   2000000\n",
      "3             0   1   25.0          1       2     0   1700000\n",
      "4             0   2   36.0          0       2     0   3500000\n",
      "5             0   1   30.0          0       2     0   2850000\n",
      "6             0   2   36.0          0       0     0   3650000\n",
      "7             0   2   36.0          1       0     0   3500000\n",
      "8             0   2   36.0          0       0     0   3500000\n",
      "9             0   1   25.0          1       0     2   2700000\n",
      "10            0   2   36.0          0       0     0   3500000\n",
      "11            0   2   36.0          0       0     0   3500000\n",
      "12            0   2   72.0          0       1     0   5500000\n",
      "13            0   2  135.0          0       2     0   2000000\n",
      "14            0   2  135.0          0       2     0   2000000\n",
      "15            0   1   25.0          0       2     0   2200000\n",
      "16            0   2   36.0          0       2     0   3500000\n",
      "17            0   2   36.0          1       1     0   3500000\n",
      "18            0   2   36.0          0       1     0   3500000\n",
      "19            0   1   32.0          0       2     0   2500000\n",
      "20            0   1   36.0          0       2     0   2250000\n",
      "21            0   1   31.0          0       0     0   1700000\n",
      "22            0   1   30.0          0       1     0   2700000\n",
      "23            0   1   30.0          0       0     0   2600000\n",
      "24            0   1   30.0          0       1     0   2600000\n",
      "25            0   1   30.0          0       1     0   2600000\n",
      "26            0   1   30.0          0       1     0   2700000\n",
      "27            0   1   30.0          0       0     0   2700000\n",
      "28            0   1   25.0          0       2     2   2300000\n",
      "29            0   2   36.0          1       0     0   2000000\n",
      "...         ...  ..    ...        ...     ...   ...       ...\n",
      "2845         30   2   35.0          0       1     0   4000000\n",
      "2846         30   1   21.0          0       1     2   3000000\n",
      "2847         30   1   21.0          0       1     2   3000000\n",
      "2848         30   1   21.0          0       1     2   3100000\n",
      "2849         30   2   35.0          0       1     0   4000000\n",
      "2850         30   1   21.0          0       1     2   3000000\n",
      "2851         30   1   21.0          0       1     2   3100000\n",
      "2852         30   2   35.0          0       1     0   4000000\n",
      "2853         30   1   21.0          0       1     2   3000000\n",
      "2854         30   1   21.0          0       1     2   4100000\n",
      "2855         30   1   25.0          1       2     2   2000000\n",
      "2856         30   1   21.0          0       1     2   3000000\n",
      "2857         30   1   21.0          0       1     2   3000000\n",
      "2858         30   1   21.0          0       1     2   4100000\n",
      "2859         30   1   25.0          1       2     2   2000000\n",
      "2860         30   1   21.0          0       1     2   3000000\n",
      "2861         31   1   18.0          0       2     1   7600000\n",
      "2862         31   1  100.0          0       1     1   8100000\n",
      "2863         31   1  100.0          0       1     1   5200000\n",
      "2864         31   1  105.0          0       1     1   5200000\n",
      "2865         31   2   74.0          0       2     0  19596500\n",
      "2866         31   2   74.0          0       2     0  19596500\n",
      "2867         31   2   74.0          0       2     0  16657025\n",
      "2868         31   2   74.0          0       2     0  16657025\n",
      "2869         31   1   10.0          0       2     1   5000000\n",
      "2870         31   1   97.0          0       1     0   9500000\n",
      "2871         31   2   77.0          0       0     0  10000000\n",
      "2872         31   2  122.0          0       2     0  25000000\n",
      "2873         31   3   78.0          0       1     0   8500000\n",
      "2874         31   3   78.0          0       1     0   8500000\n",
      "\n",
      "[2875 rows x 7 columns]\n"
     ]
    }
   ],
   "source": [
    "print (df)"
   ]
  },
  {
   "cell_type": "code",
   "execution_count": 6,
   "metadata": {},
   "outputs": [],
   "source": [
    "#MEMBAGI DATA TRAIN DAN TEST\n",
    "df_train, df_test, y_train, y_test = train_test_split(df[predictors], df[label], test_size=0.25, random_state=42)"
   ]
  },
  {
   "cell_type": "code",
   "execution_count": 49,
   "metadata": {},
   "outputs": [
    {
     "name": "stdout",
     "output_type": "stream",
     "text": [
      "Model Performance Training\n",
      "Average Error: 682831.2026 degrees.\n",
      "Accuracy = 89.49%.\n"
     ]
    }
   ],
   "source": [
    "#MEMBUAT MODEL TRAIN PARAMETER DEFAULT\n",
    "def evaluatetrain(model, X=df_train, y=y_train):\n",
    "    predictions = model.predict(X=df_train)\n",
    "    errors = abs(predictions - y_train)\n",
    "    mape = 100 * np.mean(errors / y_train)\n",
    "    accuracy = 100 - mape\n",
    "    print('Model Performance Training')\n",
    "    print('Average Error: {:0.4f} degrees.'.format(np.mean(errors)))\n",
    "    print('Accuracy = {:0.2f}%.'.format(accuracy))\n",
    "    \n",
    "    return accuracy\n",
    "\n",
    "base_modeltrain = RandomForestRegressor(random_state = 42)\n",
    "base_model.fit(X=df_train, y=y_train)\n",
    "base_accuracytrain = evaluatetrain(base_model, X=df_train, y=y_train)"
   ]
  },
  {
   "cell_type": "code",
   "execution_count": 50,
   "metadata": {},
   "outputs": [
    {
     "name": "stdout",
     "output_type": "stream",
     "text": [
      "Model Performance Testing\n",
      "Average Error: 568424.3797 degrees.\n",
      "Accuracy = 91.31%.\n"
     ]
    }
   ],
   "source": [
    "#MEMBUAT MODEL TEST PARAMETER DEFAULT\n",
    "def evaluatetest(model, X=df_test, y=y_test):\n",
    "    predictionstest = model.predict(X=df_test)\n",
    "    errorstest = abs(predictionstest - y_test)\n",
    "    mapetest = 100 * np.mean(errorstest / y_test)\n",
    "    accuracytest = 100 - mapetest\n",
    "    print('Model Performance Testing')\n",
    "    print('Average Error: {:0.4f} degrees.'.format(np.mean(errorstest)))\n",
    "    print('Accuracy = {:0.2f}%.'.format(accuracytest))\n",
    "    \n",
    "    return accuracytest\n",
    "\n",
    "base_modeltest = RandomForestRegressor(random_state = 42)\n",
    "base_model.fit(X=df_test, y=y_test)\n",
    "base_accuracytest = evaluatetest(base_model, X=df_test, y=y_test)"
   ]
  },
  {
   "cell_type": "code",
   "execution_count": 16,
   "metadata": {},
   "outputs": [],
   "source": [
    "from sklearn.model_selection import GridSearchCV\n",
    "# Create the parameter grid based on the results of random search \n",
    "param_grid = {\n",
    "    'bootstrap': [True],\n",
    "    'max_features': [3,'sqrt','auto'],\n",
    "    'n_estimators': [10, 50, 75, 100, 200, 300, 1000, 1500]\n",
    "}\n",
    "# Create a based model\n",
    "rf = RandomForestRegressor()\n",
    "# Instantiate the grid search model\n",
    "grid_search = GridSearchCV(estimator = rf, param_grid = param_grid, \n",
    "                          cv = 10, n_jobs = -1, verbose = 2)"
   ]
  },
  {
   "cell_type": "code",
   "execution_count": 17,
   "metadata": {},
   "outputs": [
    {
     "name": "stdout",
     "output_type": "stream",
     "text": [
      "Fitting 10 folds for each of 24 candidates, totalling 240 fits\n"
     ]
    },
    {
     "name": "stderr",
     "output_type": "stream",
     "text": [
      "[Parallel(n_jobs=-1)]: Done  33 tasks      | elapsed:   21.1s\n",
      "[Parallel(n_jobs=-1)]: Done 154 tasks      | elapsed:  2.0min\n",
      "[Parallel(n_jobs=-1)]: Done 240 out of 240 | elapsed:  3.3min finished\n"
     ]
    },
    {
     "data": {
      "text/plain": [
       "{'bootstrap': True, 'max_features': 3, 'n_estimators': 300}"
      ]
     },
     "execution_count": 17,
     "metadata": {},
     "output_type": "execute_result"
    }
   ],
   "source": [
    "# Fit the grid search to the data\n",
    "grid_search.fit(X=df_train, y=y_train)\n",
    "grid_search.best_params_"
   ]
  },
  {
   "cell_type": "code",
   "execution_count": 17,
   "metadata": {},
   "outputs": [],
   "source": [
    "#EVALUATE THE BEST MODEL SEARCH GRID TRAINING DATA"
   ]
  },
  {
   "cell_type": "code",
   "execution_count": 51,
   "metadata": {},
   "outputs": [
    {
     "name": "stdout",
     "output_type": "stream",
     "text": [
      "Model Performance Training\n",
      "Average Error: 641922.6056 degrees.\n",
      "Accuracy = 90.08%.\n"
     ]
    }
   ],
   "source": [
    "best_gridtrain = RandomForestRegressor(random_state = 42, max_features=3, n_estimators=300  )\n",
    "best_gridtrain.fit( X=df_train, y=y_train)\n",
    "grid_accuracytrain = evaluatetrain(best_gridtrain, X=df_train, y=y_train)"
   ]
  },
  {
   "cell_type": "code",
   "execution_count": 54,
   "metadata": {},
   "outputs": [
    {
     "name": "stdout",
     "output_type": "stream",
     "text": [
      "Improvement of training 0.65%.\n"
     ]
    }
   ],
   "source": [
    "print('Improvement of training {:0.2f}%.'.format( 100 * (grid_accuracytrain - base_accuracytrain) / base_accuracytrain))"
   ]
  },
  {
   "cell_type": "code",
   "execution_count": 20,
   "metadata": {},
   "outputs": [],
   "source": [
    "#EVALUATE THE BEST MODEL SEARCH GRID TESTING DATA"
   ]
  },
  {
   "cell_type": "code",
   "execution_count": 52,
   "metadata": {},
   "outputs": [
    {
     "name": "stdout",
     "output_type": "stream",
     "text": [
      "Model Performance Testing\n",
      "Average Error: 520686.3254 degrees.\n",
      "Accuracy = 92.12%.\n"
     ]
    }
   ],
   "source": [
    "best_gridtest = RandomForestRegressor(random_state = 42, max_features=3, n_estimators=300  )\n",
    "best_gridtest.fit(X=df_test, y=y_test)\n",
    "grid_accuracytest = evaluatetest(best_gridtest, X=df_test, y=y_test)"
   ]
  },
  {
   "cell_type": "code",
   "execution_count": 55,
   "metadata": {},
   "outputs": [
    {
     "name": "stdout",
     "output_type": "stream",
     "text": [
      "Improvement of testing 0.89%.\n"
     ]
    }
   ],
   "source": [
    "print('Improvement of testing {:0.2f}%.'.format( 100 * (grid_accuracytest - base_accuracytest) / base_accuracytest))"
   ]
  },
  {
   "cell_type": "code",
   "execution_count": 32,
   "metadata": {},
   "outputs": [
    {
     "data": {
      "text/plain": [
       "['model.pkl']"
      ]
     },
     "execution_count": 32,
     "metadata": {},
     "output_type": "execute_result"
    }
   ],
   "source": [
    "from sklearn.externals import joblib\n",
    "joblib.dump(best_grid, 'model.pkl') "
   ]
  },
  {
   "cell_type": "code",
   "execution_count": 33,
   "metadata": {},
   "outputs": [
    {
     "data": {
      "text/html": [
       "<div>\n",
       "<style scoped>\n",
       "    .dataframe tbody tr th:only-of-type {\n",
       "        vertical-align: middle;\n",
       "    }\n",
       "\n",
       "    .dataframe tbody tr th {\n",
       "        vertical-align: top;\n",
       "    }\n",
       "\n",
       "    .dataframe thead th {\n",
       "        text-align: right;\n",
       "    }\n",
       "</style>\n",
       "<table border=\"1\" class=\"dataframe\">\n",
       "  <thead>\n",
       "    <tr style=\"text-align: right;\">\n",
       "      <th></th>\n",
       "      <th>Kecamatan</th>\n",
       "      <th>BR</th>\n",
       "      <th>Luas</th>\n",
       "      <th>Fasilitas</th>\n",
       "      <th>Lantai</th>\n",
       "      <th>Unit</th>\n",
       "    </tr>\n",
       "  </thead>\n",
       "  <tbody>\n",
       "    <tr>\n",
       "      <th>729</th>\n",
       "      <td>5</td>\n",
       "      <td>2</td>\n",
       "      <td>34.0</td>\n",
       "      <td>0</td>\n",
       "      <td>2</td>\n",
       "      <td>0</td>\n",
       "    </tr>\n",
       "  </tbody>\n",
       "</table>\n",
       "</div>"
      ],
      "text/plain": [
       "     Kecamatan  BR  Luas  Fasilitas  Lantai  Unit\n",
       "729          5   2  34.0          0       2     0"
      ]
     },
     "execution_count": 33,
     "metadata": {},
     "output_type": "execute_result"
    }
   ],
   "source": [
    "df_test.head(1)"
   ]
  },
  {
   "cell_type": "code",
   "execution_count": 34,
   "metadata": {},
   "outputs": [],
   "source": [
    "import json"
   ]
  },
  {
   "cell_type": "code",
   "execution_count": 35,
   "metadata": {
    "scrolled": true
   },
   "outputs": [],
   "source": [
    "data = json.dumps({'Kecamatan':5, 'BR':2, 'Luas':34, 'Fasilitas':0, 'Lantai':2, 'Unit':0})"
   ]
  },
  {
   "cell_type": "code",
   "execution_count": 36,
   "metadata": {},
   "outputs": [],
   "source": [
    "data = np.array([5, 2, 34, 0, 2, 0]).reshape(1, -1)"
   ]
  },
  {
   "cell_type": "code",
   "execution_count": 37,
   "metadata": {},
   "outputs": [
    {
     "data": {
      "text/plain": [
       "array([[ 5,  2, 34,  0,  2,  0]])"
      ]
     },
     "execution_count": 37,
     "metadata": {},
     "output_type": "execute_result"
    }
   ],
   "source": [
    "data"
   ]
  },
  {
   "cell_type": "code",
   "execution_count": 38,
   "metadata": {},
   "outputs": [
    {
     "data": {
      "text/plain": [
       "4967489.414028184"
      ]
     },
     "execution_count": 38,
     "metadata": {},
     "output_type": "execute_result"
    }
   ],
   "source": [
    "best_grid.predict(data)[0]"
   ]
  },
  {
   "cell_type": "code",
   "execution_count": 39,
   "metadata": {},
   "outputs": [
    {
     "data": {
      "text/plain": [
       "4967489.414028184"
      ]
     },
     "execution_count": 39,
     "metadata": {},
     "output_type": "execute_result"
    }
   ],
   "source": [
    "data = {'Kecamatan':5, 'BR':2, 'Luas':34, 'Fasilitas':0, 'Lantai':2, 'Unit':0}\n",
    "predict_request = [data['Kecamatan'], data['BR'], data['Luas'], data['Fasilitas'], data['Lantai'], data['Unit']]\n",
    "predict_request = np.array(predict_request).reshape(1, -1)\n",
    "     # predict_request = np.array(predict_request)\n",
    "     # # query = pd.DataFrame(json_)\n",
    "     # # query = pd.get_dummies(query_df)\n",
    "prediction = best_grid.predict(predict_request)\n",
    "prediction[0]"
   ]
  },
  {
   "cell_type": "code",
   "execution_count": 40,
   "metadata": {},
   "outputs": [],
   "source": [
    "#VARIABLE OF IMPORTANCE"
   ]
  },
  {
   "cell_type": "code",
   "execution_count": 41,
   "metadata": {},
   "outputs": [
    {
     "name": "stdout",
     "output_type": "stream",
     "text": [
      "Variable: Luas                 Importance: 0.62\n",
      "Variable: Kecamatan            Importance: 0.18\n",
      "Variable: BR                   Importance: 0.12\n",
      "Variable: Lantai               Importance: 0.04\n",
      "Variable: Unit                 Importance: 0.02\n",
      "Variable: Fasilitas            Importance: 0.01\n"
     ]
    },
    {
     "data": {
      "text/plain": [
       "[None, None, None, None, None, None]"
      ]
     },
     "execution_count": 41,
     "metadata": {},
     "output_type": "execute_result"
    }
   ],
   "source": [
    "# Get numerical feature importances\n",
    "importances = list(best_grid.feature_importances_)\n",
    "#List Predictors\n",
    "predictors_list = list(predictors)\n",
    "# List of tuples with variable and importance\n",
    "feature_importances = [(predictors, round(importance, 2)) for predictors, importance in zip(predictors_list, importances)]\n",
    "# Sort the feature importances by most important first\n",
    "feature_importances = sorted(feature_importances, key = lambda x: x[1], reverse = True)\n",
    "# Print out the feature and importances \n",
    "[print('Variable: {:20} Importance: {}'.format(*pair)) for pair in feature_importances]"
   ]
  },
  {
   "cell_type": "code",
   "execution_count": null,
   "metadata": {},
   "outputs": [],
   "source": []
  }
 ],
 "metadata": {
  "kernelspec": {
   "display_name": "Python 3",
   "language": "python",
   "name": "python3"
  },
  "language_info": {
   "codemirror_mode": {
    "name": "ipython",
    "version": 3
   },
   "file_extension": ".py",
   "mimetype": "text/x-python",
   "name": "python",
   "nbconvert_exporter": "python",
   "pygments_lexer": "ipython3",
   "version": "3.6.5"
  }
 },
 "nbformat": 4,
 "nbformat_minor": 2
}
